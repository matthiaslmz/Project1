{
 "cells": [
  {
   "cell_type": "markdown",
   "metadata": {},
   "source": [
    "---\n",
    "# <center style =\"color:darkblue;\"> Data Analysis with Pandas\n",
    "---"
   ]
  },
  {
   "cell_type": "markdown",
   "metadata": {},
   "source": [
    "## Introduction: \n",
    "\n",
    "#### The purpose of this project is to be able to introduce the Pandas Package. Specifically, we will be going through the basics of Pandas.IO API with a few examples and at the end, I will show a more advanced example of what Pandas could do with the basics we have. The following is what we will be doing in this notebook.\n",
    "\n",
    "* Overview\n",
    "* Reading from and to a CSV fle\n",
    "* What exactly are Dataframes and what can you do with them\n",
    "* Computational/Statistical Tools in pandas\n",
    "* Examples"
   ]
  },
  {
   "cell_type": "markdown",
   "metadata": {},
   "source": [
    "# Overview\n",
    "\n",
    "Pandas is a Python package that provides a fast, efficient data analysis tools for doing practical, real world data analysis. The strengths of pandas lie in:\n",
    "\n",
    "* reading in data\n",
    "* manipulating rows and columns\n",
    "* working with dates and series\n",
    "* adjusting indices\n",
    "* sorting,grouping, re-ordering and general data mugging\n",
    "* dealing with missing values... etc"
   ]
  },
  {
   "cell_type": "markdown",
   "metadata": {},
   "source": [
    "## Dataframe\n",
    "\n",
    "The most important data type defined by pandas is a *Dataframe*, which is an object for storing related columns of data. In a sense, you can think of *Dataframe* as analogous to a 2-dimensional numpy like array that takes any data type (ie., strings, floats, long, int, etc..). What I mean by 2-dimensional is that is will look like a table. It will have *m* rows, *n* columns or like a (highly optimized) Excel spreadhseet.\n",
    "\n",
    "## What can we do with a dataframe?\n",
    "* *slice* data (to select specific data)\n",
    "* reorganize the columns\n",
    "* perform mathematical operations on the data! \n",
    "* standard deviation, covariance, correlation, etc\n",
    "\n",
    "There will be some examples below!"
   ]
  },
  {
   "cell_type": "code",
   "execution_count": 1,
   "metadata": {
    "collapsed": false
   },
   "outputs": [],
   "source": [
    "import pandas as pd\n",
    "import numpy as np\n",
    "import datetime as dt\n",
    "import matplotlib.pyplot as plt\n",
    "%matplotlib inline"
   ]
  },
  {
   "cell_type": "markdown",
   "metadata": {},
   "source": [
    "## What kind of file does Pandas read?\n",
    "\n",
    "Pandas can read many different type of [files](http://pandas.pydata.org/pandas-docs/stable/io.html). However, some of the files that are most widely used are csv, excel, json, and html. In this notebook, we will be focusing on csv files"
   ]
  },
  {
   "cell_type": "markdown",
   "metadata": {},
   "source": [
    "## What are CSV files?\n",
    "\n",
    "A **CSV** is a **C**omma **S**eparated **V**alues file which allows data to be saved in a tabular format. Traditionally, they take the form of a text file containing information separated by commas, hence the name!\n",
    "![title](http://wso2.com/project/data-services/2.6.3/docs/images/ds-wizard/csv/csv_file.png)"
   ]
  },
  {
   "cell_type": "markdown",
   "metadata": {},
   "source": [
    "## Where can you get free financial data from? \n",
    "\n",
    "In class, we looked at [Quandl](https://www.quandl.com/)\n",
    "\n",
    "For most(if not all) of the best, up-to-date data, you will usually have to pay for them.\n",
    "For more free data, check these out!\n",
    "\n",
    "* [Quant Stackexchange](http://quant.stackexchange.com/questions/141/what-data-sources-are-available-online)\n",
    "* [Google Public Data Explorer](https://www.google.com/publicdata/directory)\n",
    "* [The World Bank](http://databank.worldbank.org/data/home.aspx)\n",
    "\n",
    "\n",
    "What's nice is that Pandas have a [built-in subpackage](http://pandas.pydata.org/pandas-docs/stable/remote_data.html) that acquires data from various sources! Some of them include:\n",
    "* Yahoo! Finance\n",
    "* Google Finance\n",
    "* FRED (Federal Reserve Economic Data)\n",
    "* World Bank\n",
    "\n",
    "**NOTE: Unfortunately in pandas 0.17.0 onwards, the sub-package pandas.io.data will be removed in favor of a separately installable pandas-datareader package. However, I still will be showing you what we can do with that function!**"
   ]
  },
  {
   "cell_type": "markdown",
   "metadata": {},
   "source": [
    "# What can I do with my csv file?\n",
    "\n",
    "Let's start with the `read_csv()` function! Basically what Pandas does is that it intelligently converts your csv tabular data into a DataFrame object. Remember, what can we do with a dataframe object? Many things... (see DataFrames paragraph above). You can also check out the [documentation](http://pandas.pydata.org/pandas-docs/stable/generated/pandas.read_csv.html) to see what parameter it takes."
   ]
  },
  {
   "cell_type": "code",
   "execution_count": 2,
   "metadata": {
    "collapsed": false,
    "scrolled": false
   },
   "outputs": [
    {
     "name": "stdout",
     "output_type": "stream",
     "text": [
      "   20150312  553.9890  554.8467  548.9528  551.9945  1389600\n",
      "0  20150313  545.8215  556.8711  542.7299  551.9845  1703500\n",
      "1  20150316  552.9918  555.3254  544.5051  549.4415  1640900\n",
      "2  20150317  549.3318  552.2837  546.4996  550.1994  1805500\n",
      "3  20150318  557.9681  558.2473  545.5023  550.9872  2134500\n",
      "4  20150319  556.4622  559.2645  554.6223  557.8584  1197200\n"
     ]
    }
   ],
   "source": [
    "df = pd.read_csv('GOOG.csv')\n",
    "print(df.head())"
   ]
  },
  {
   "cell_type": "markdown",
   "metadata": {},
   "source": [
    "The `.head()` function is useful to peek at the first few rows of the data. You may have large datasets and you don't want to print the whole file if you just want to \"peek\" at your data."
   ]
  },
  {
   "cell_type": "code",
   "execution_count": 3,
   "metadata": {
    "collapsed": false,
    "scrolled": false
   },
   "outputs": [
    {
     "data": {
      "text/html": [
       "<div>\n",
       "<table border=\"1\" class=\"dataframe\">\n",
       "  <thead>\n",
       "    <tr style=\"text-align: right;\">\n",
       "      <th></th>\n",
       "      <th>20150312</th>\n",
       "      <th>553.9890</th>\n",
       "      <th>554.8467</th>\n",
       "      <th>548.9528</th>\n",
       "      <th>551.9945</th>\n",
       "      <th>1389600</th>\n",
       "    </tr>\n",
       "  </thead>\n",
       "  <tbody>\n",
       "    <tr>\n",
       "      <th>0</th>\n",
       "      <td>20150313</td>\n",
       "      <td>545.8215</td>\n",
       "      <td>556.8711</td>\n",
       "      <td>542.7299</td>\n",
       "      <td>551.9845</td>\n",
       "      <td>1703500</td>\n",
       "    </tr>\n",
       "    <tr>\n",
       "      <th>1</th>\n",
       "      <td>20150316</td>\n",
       "      <td>552.9918</td>\n",
       "      <td>555.3254</td>\n",
       "      <td>544.5051</td>\n",
       "      <td>549.4415</td>\n",
       "      <td>1640900</td>\n",
       "    </tr>\n",
       "    <tr>\n",
       "      <th>2</th>\n",
       "      <td>20150317</td>\n",
       "      <td>549.3318</td>\n",
       "      <td>552.2837</td>\n",
       "      <td>546.4996</td>\n",
       "      <td>550.1994</td>\n",
       "      <td>1805500</td>\n",
       "    </tr>\n",
       "    <tr>\n",
       "      <th>3</th>\n",
       "      <td>20150318</td>\n",
       "      <td>557.9681</td>\n",
       "      <td>558.2473</td>\n",
       "      <td>545.5023</td>\n",
       "      <td>550.9872</td>\n",
       "      <td>2134500</td>\n",
       "    </tr>\n",
       "    <tr>\n",
       "      <th>4</th>\n",
       "      <td>20150319</td>\n",
       "      <td>556.4622</td>\n",
       "      <td>559.2645</td>\n",
       "      <td>554.6223</td>\n",
       "      <td>557.8584</td>\n",
       "      <td>1197200</td>\n",
       "    </tr>\n",
       "  </tbody>\n",
       "</table>\n",
       "</div>"
      ],
      "text/plain": [
       "   20150312  553.9890  554.8467  548.9528  551.9945  1389600\n",
       "0  20150313  545.8215  556.8711  542.7299  551.9845  1703500\n",
       "1  20150316  552.9918  555.3254  544.5051  549.4415  1640900\n",
       "2  20150317  549.3318  552.2837  546.4996  550.1994  1805500\n",
       "3  20150318  557.9681  558.2473  545.5023  550.9872  2134500\n",
       "4  20150319  556.4622  559.2645  554.6223  557.8584  1197200"
      ]
     },
     "execution_count": 3,
     "metadata": {},
     "output_type": "execute_result"
    }
   ],
   "source": [
    "df.head()"
   ]
  },
  {
   "cell_type": "markdown",
   "metadata": {},
   "source": [
    "Notice, Pandas automatically \"organizes\" the data into different columns (formally known as *values*). It does this by reading the data from before each comma (in the csv file) as a set of data. In our example above, our columns will correspond to *date, closing price ,highest price ,lowest price, opening price, volume traded*"
   ]
  },
  {
   "cell_type": "markdown",
   "metadata": {},
   "source": [
    "# Let's organize the data!!"
   ]
  },
  {
   "cell_type": "markdown",
   "metadata": {},
   "source": [
    "### First we will be labelling each column.\n",
    "\n",
    "It's important to note that a csv file doens't have an attribute \"index\". You will see what I mean below."
   ]
  },
  {
   "cell_type": "code",
   "execution_count": 4,
   "metadata": {
    "collapsed": false,
    "scrolled": true
   },
   "outputs": [
    {
     "name": "stdout",
     "output_type": "stream",
     "text": [
      "       date    closeP     highP      lowP     openP   volume\n",
      "0  20150312  553.9890  554.8467  548.9528  551.9945  1389600\n",
      "1  20150313  545.8215  556.8711  542.7299  551.9845  1703500\n",
      "2  20150316  552.9918  555.3254  544.5051  549.4415  1640900\n",
      "3  20150317  549.3318  552.2837  546.4996  550.1994  1805500\n",
      "4  20150318  557.9681  558.2473  545.5023  550.9872  2134500\n"
     ]
    }
   ],
   "source": [
    "df = pd.read_csv('GOOG.csv',names=['date','closeP','highP','lowP','openP','volume'])\n",
    "print(df.head())"
   ]
  },
  {
   "cell_type": "code",
   "execution_count": 5,
   "metadata": {
    "collapsed": false,
    "scrolled": true
   },
   "outputs": [
    {
     "data": {
      "text/html": [
       "<div>\n",
       "<table border=\"1\" class=\"dataframe\">\n",
       "  <thead>\n",
       "    <tr style=\"text-align: right;\">\n",
       "      <th></th>\n",
       "      <th>date</th>\n",
       "      <th>closeP</th>\n",
       "      <th>highP</th>\n",
       "      <th>lowP</th>\n",
       "      <th>openP</th>\n",
       "      <th>volume</th>\n",
       "    </tr>\n",
       "  </thead>\n",
       "  <tbody>\n",
       "    <tr>\n",
       "      <th>0</th>\n",
       "      <td>20150312</td>\n",
       "      <td>553.9890</td>\n",
       "      <td>554.8467</td>\n",
       "      <td>548.9528</td>\n",
       "      <td>551.9945</td>\n",
       "      <td>1389600</td>\n",
       "    </tr>\n",
       "    <tr>\n",
       "      <th>1</th>\n",
       "      <td>20150313</td>\n",
       "      <td>545.8215</td>\n",
       "      <td>556.8711</td>\n",
       "      <td>542.7299</td>\n",
       "      <td>551.9845</td>\n",
       "      <td>1703500</td>\n",
       "    </tr>\n",
       "    <tr>\n",
       "      <th>2</th>\n",
       "      <td>20150316</td>\n",
       "      <td>552.9918</td>\n",
       "      <td>555.3254</td>\n",
       "      <td>544.5051</td>\n",
       "      <td>549.4415</td>\n",
       "      <td>1640900</td>\n",
       "    </tr>\n",
       "    <tr>\n",
       "      <th>3</th>\n",
       "      <td>20150317</td>\n",
       "      <td>549.3318</td>\n",
       "      <td>552.2837</td>\n",
       "      <td>546.4996</td>\n",
       "      <td>550.1994</td>\n",
       "      <td>1805500</td>\n",
       "    </tr>\n",
       "    <tr>\n",
       "      <th>4</th>\n",
       "      <td>20150318</td>\n",
       "      <td>557.9681</td>\n",
       "      <td>558.2473</td>\n",
       "      <td>545.5023</td>\n",
       "      <td>550.9872</td>\n",
       "      <td>2134500</td>\n",
       "    </tr>\n",
       "  </tbody>\n",
       "</table>\n",
       "</div>"
      ],
      "text/plain": [
       "       date    closeP     highP      lowP     openP   volume\n",
       "0  20150312  553.9890  554.8467  548.9528  551.9945  1389600\n",
       "1  20150313  545.8215  556.8711  542.7299  551.9845  1703500\n",
       "2  20150316  552.9918  555.3254  544.5051  549.4415  1640900\n",
       "3  20150317  549.3318  552.2837  546.4996  550.1994  1805500\n",
       "4  20150318  557.9681  558.2473  545.5023  550.9872  2134500"
      ]
     },
     "execution_count": 5,
     "metadata": {},
     "output_type": "execute_result"
    }
   ],
   "source": [
    "df.head()"
   ]
  },
  {
   "cell_type": "markdown",
   "metadata": {},
   "source": [
    "Now that we've already named our columns, let's perform some basic operations that Pandas utilizes."
   ]
  },
  {
   "cell_type": "markdown",
   "metadata": {},
   "source": [
    "We can select particular rows using standard Python array slicing notation"
   ]
  },
  {
   "cell_type": "code",
   "execution_count": 6,
   "metadata": {
    "collapsed": false,
    "scrolled": false
   },
   "outputs": [
    {
     "data": {
      "text/html": [
       "<div>\n",
       "<table border=\"1\" class=\"dataframe\">\n",
       "  <thead>\n",
       "    <tr style=\"text-align: right;\">\n",
       "      <th></th>\n",
       "      <th>date</th>\n",
       "      <th>closeP</th>\n",
       "      <th>highP</th>\n",
       "      <th>lowP</th>\n",
       "      <th>openP</th>\n",
       "      <th>volume</th>\n",
       "    </tr>\n",
       "  </thead>\n",
       "  <tbody>\n",
       "    <tr>\n",
       "      <th>10</th>\n",
       "      <td>20150326</td>\n",
       "      <td>553.6500</td>\n",
       "      <td>557.3698</td>\n",
       "      <td>549.1423</td>\n",
       "      <td>556.0634</td>\n",
       "      <td>1572600</td>\n",
       "    </tr>\n",
       "    <tr>\n",
       "      <th>11</th>\n",
       "      <td>20150327</td>\n",
       "      <td>546.8387</td>\n",
       "      <td>553.7596</td>\n",
       "      <td>546.6292</td>\n",
       "      <td>551.4859</td>\n",
       "      <td>1897400</td>\n",
       "    </tr>\n",
       "    <tr>\n",
       "      <th>12</th>\n",
       "      <td>20150330</td>\n",
       "      <td>550.5186</td>\n",
       "      <td>551.9546</td>\n",
       "      <td>546.6691</td>\n",
       "      <td>550.1097</td>\n",
       "      <td>1287500</td>\n",
       "    </tr>\n",
       "    <tr>\n",
       "      <th>13</th>\n",
       "      <td>20150331</td>\n",
       "      <td>546.4996</td>\n",
       "      <td>553.1912</td>\n",
       "      <td>545.2231</td>\n",
       "      <td>548.4941</td>\n",
       "      <td>1588000</td>\n",
       "    </tr>\n",
       "    <tr>\n",
       "      <th>14</th>\n",
       "      <td>20150401</td>\n",
       "      <td>541.0745</td>\n",
       "      <td>549.6310</td>\n",
       "      <td>538.0229</td>\n",
       "      <td>547.0980</td>\n",
       "      <td>1963000</td>\n",
       "    </tr>\n",
       "    <tr>\n",
       "      <th>15</th>\n",
       "      <td>20150402</td>\n",
       "      <td>534.0637</td>\n",
       "      <td>539.3691</td>\n",
       "      <td>532.3853</td>\n",
       "      <td>539.3691</td>\n",
       "      <td>1716300</td>\n",
       "    </tr>\n",
       "    <tr>\n",
       "      <th>16</th>\n",
       "      <td>20150406</td>\n",
       "      <td>535.2953</td>\n",
       "      <td>536.9359</td>\n",
       "      <td>528.1201</td>\n",
       "      <td>530.7628</td>\n",
       "      <td>1324400</td>\n",
       "    </tr>\n",
       "    <tr>\n",
       "      <th>17</th>\n",
       "      <td>20150407</td>\n",
       "      <td>535.5496</td>\n",
       "      <td>541.2041</td>\n",
       "      <td>534.5325</td>\n",
       "      <td>536.6068</td>\n",
       "      <td>1302800</td>\n",
       "    </tr>\n",
       "    <tr>\n",
       "      <th>18</th>\n",
       "      <td>20150408</td>\n",
       "      <td>540.1271</td>\n",
       "      <td>542.3610</td>\n",
       "      <td>536.9059</td>\n",
       "      <td>536.9059</td>\n",
       "      <td>1178500</td>\n",
       "    </tr>\n",
       "    <tr>\n",
       "      <th>19</th>\n",
       "      <td>20150409</td>\n",
       "      <td>539.2994</td>\n",
       "      <td>540.4661</td>\n",
       "      <td>534.0239</td>\n",
       "      <td>539.5486</td>\n",
       "      <td>1557800</td>\n",
       "    </tr>\n",
       "  </tbody>\n",
       "</table>\n",
       "</div>"
      ],
      "text/plain": [
       "        date    closeP     highP      lowP     openP   volume\n",
       "10  20150326  553.6500  557.3698  549.1423  556.0634  1572600\n",
       "11  20150327  546.8387  553.7596  546.6292  551.4859  1897400\n",
       "12  20150330  550.5186  551.9546  546.6691  550.1097  1287500\n",
       "13  20150331  546.4996  553.1912  545.2231  548.4941  1588000\n",
       "14  20150401  541.0745  549.6310  538.0229  547.0980  1963000\n",
       "15  20150402  534.0637  539.3691  532.3853  539.3691  1716300\n",
       "16  20150406  535.2953  536.9359  528.1201  530.7628  1324400\n",
       "17  20150407  535.5496  541.2041  534.5325  536.6068  1302800\n",
       "18  20150408  540.1271  542.3610  536.9059  536.9059  1178500\n",
       "19  20150409  539.2994  540.4661  534.0239  539.5486  1557800"
      ]
     },
     "execution_count": 6,
     "metadata": {},
     "output_type": "execute_result"
    }
   ],
   "source": [
    "df[10:20]"
   ]
  },
  {
   "cell_type": "markdown",
   "metadata": {},
   "source": [
    "**Notice that the index 0,1,...,19 is redundant. Usually, you would want to have your index column to be an independent variable (ie., data you want to be on the x-axis). So for us, we want time as our independent variable. How can we specify which column we want as an index? There are several ways but we will explore a convenient way provided by `.read_csv`**"
   ]
  },
  {
   "cell_type": "code",
   "execution_count": 7,
   "metadata": {
    "collapsed": false,
    "scrolled": true
   },
   "outputs": [
    {
     "data": {
      "text/html": [
       "<div>\n",
       "<table border=\"1\" class=\"dataframe\">\n",
       "  <thead>\n",
       "    <tr style=\"text-align: right;\">\n",
       "      <th></th>\n",
       "      <th>closeP</th>\n",
       "      <th>highP</th>\n",
       "      <th>lowP</th>\n",
       "      <th>openP</th>\n",
       "      <th>volume</th>\n",
       "    </tr>\n",
       "    <tr>\n",
       "      <th>date</th>\n",
       "      <th></th>\n",
       "      <th></th>\n",
       "      <th></th>\n",
       "      <th></th>\n",
       "      <th></th>\n",
       "    </tr>\n",
       "  </thead>\n",
       "  <tbody>\n",
       "    <tr>\n",
       "      <th>20150312</th>\n",
       "      <td>553.9890</td>\n",
       "      <td>554.8467</td>\n",
       "      <td>548.9528</td>\n",
       "      <td>551.9945</td>\n",
       "      <td>1389600</td>\n",
       "    </tr>\n",
       "    <tr>\n",
       "      <th>20150313</th>\n",
       "      <td>545.8215</td>\n",
       "      <td>556.8711</td>\n",
       "      <td>542.7299</td>\n",
       "      <td>551.9845</td>\n",
       "      <td>1703500</td>\n",
       "    </tr>\n",
       "    <tr>\n",
       "      <th>20150316</th>\n",
       "      <td>552.9918</td>\n",
       "      <td>555.3254</td>\n",
       "      <td>544.5051</td>\n",
       "      <td>549.4415</td>\n",
       "      <td>1640900</td>\n",
       "    </tr>\n",
       "    <tr>\n",
       "      <th>20150317</th>\n",
       "      <td>549.3318</td>\n",
       "      <td>552.2837</td>\n",
       "      <td>546.4996</td>\n",
       "      <td>550.1994</td>\n",
       "      <td>1805500</td>\n",
       "    </tr>\n",
       "    <tr>\n",
       "      <th>20150318</th>\n",
       "      <td>557.9681</td>\n",
       "      <td>558.2473</td>\n",
       "      <td>545.5023</td>\n",
       "      <td>550.9872</td>\n",
       "      <td>2134500</td>\n",
       "    </tr>\n",
       "  </tbody>\n",
       "</table>\n",
       "</div>"
      ],
      "text/plain": [
       "            closeP     highP      lowP     openP   volume\n",
       "date                                                     \n",
       "20150312  553.9890  554.8467  548.9528  551.9945  1389600\n",
       "20150313  545.8215  556.8711  542.7299  551.9845  1703500\n",
       "20150316  552.9918  555.3254  544.5051  549.4415  1640900\n",
       "20150317  549.3318  552.2837  546.4996  550.1994  1805500\n",
       "20150318  557.9681  558.2473  545.5023  550.9872  2134500"
      ]
     },
     "execution_count": 7,
     "metadata": {},
     "output_type": "execute_result"
    }
   ],
   "source": [
    "df = pd.read_csv('GOOG.csv',names=['date','closeP','highP','lowP','openP','volume'] \n",
    "                 ,index_col='date')\n",
    "df.head()"
   ]
  },
  {
   "cell_type": "markdown",
   "metadata": {},
   "source": [
    "**A very powerful feature of pandas is to be able to work with** [time-series](http://pandas.pydata.org/pandas-docs/stable/timeseries.html) **data with ease. Given a standard time format, it is able to convert it automatically to a preferable format for pandas to use. We can do with the `parse_dates` feature of `read_csv`.**"
   ]
  },
  {
   "cell_type": "code",
   "execution_count": 8,
   "metadata": {
    "collapsed": false,
    "scrolled": true
   },
   "outputs": [
    {
     "data": {
      "text/html": [
       "<div>\n",
       "<table border=\"1\" class=\"dataframe\">\n",
       "  <thead>\n",
       "    <tr style=\"text-align: right;\">\n",
       "      <th></th>\n",
       "      <th>closeP</th>\n",
       "      <th>highP</th>\n",
       "      <th>lowP</th>\n",
       "      <th>openP</th>\n",
       "      <th>volume</th>\n",
       "    </tr>\n",
       "    <tr>\n",
       "      <th>date</th>\n",
       "      <th></th>\n",
       "      <th></th>\n",
       "      <th></th>\n",
       "      <th></th>\n",
       "      <th></th>\n",
       "    </tr>\n",
       "  </thead>\n",
       "  <tbody>\n",
       "    <tr>\n",
       "      <th>2015-03-12</th>\n",
       "      <td>553.9890</td>\n",
       "      <td>554.8467</td>\n",
       "      <td>548.9528</td>\n",
       "      <td>551.9945</td>\n",
       "      <td>1389600</td>\n",
       "    </tr>\n",
       "    <tr>\n",
       "      <th>2015-03-13</th>\n",
       "      <td>545.8215</td>\n",
       "      <td>556.8711</td>\n",
       "      <td>542.7299</td>\n",
       "      <td>551.9845</td>\n",
       "      <td>1703500</td>\n",
       "    </tr>\n",
       "    <tr>\n",
       "      <th>2015-03-16</th>\n",
       "      <td>552.9918</td>\n",
       "      <td>555.3254</td>\n",
       "      <td>544.5051</td>\n",
       "      <td>549.4415</td>\n",
       "      <td>1640900</td>\n",
       "    </tr>\n",
       "    <tr>\n",
       "      <th>2015-03-17</th>\n",
       "      <td>549.3318</td>\n",
       "      <td>552.2837</td>\n",
       "      <td>546.4996</td>\n",
       "      <td>550.1994</td>\n",
       "      <td>1805500</td>\n",
       "    </tr>\n",
       "    <tr>\n",
       "      <th>2015-03-18</th>\n",
       "      <td>557.9681</td>\n",
       "      <td>558.2473</td>\n",
       "      <td>545.5023</td>\n",
       "      <td>550.9872</td>\n",
       "      <td>2134500</td>\n",
       "    </tr>\n",
       "  </tbody>\n",
       "</table>\n",
       "</div>"
      ],
      "text/plain": [
       "              closeP     highP      lowP     openP   volume\n",
       "date                                                       \n",
       "2015-03-12  553.9890  554.8467  548.9528  551.9945  1389600\n",
       "2015-03-13  545.8215  556.8711  542.7299  551.9845  1703500\n",
       "2015-03-16  552.9918  555.3254  544.5051  549.4415  1640900\n",
       "2015-03-17  549.3318  552.2837  546.4996  550.1994  1805500\n",
       "2015-03-18  557.9681  558.2473  545.5023  550.9872  2134500"
      ]
     },
     "execution_count": 8,
     "metadata": {},
     "output_type": "execute_result"
    }
   ],
   "source": [
    "df = pd.read_csv('GOOG.csv',names=['date','closeP','highP','lowP','openP','volume'] \n",
    "                 ,index_col='date',parse_dates = True)\n",
    "df.head()"
   ]
  },
  {
   "cell_type": "markdown",
   "metadata": {},
   "source": [
    "In this example below, we can see that the datetime format is not 'standard'. This datetime format is usually known as  'unix time' It is often expressed %Y-%M-%D %h:%m:%s"
   ]
  },
  {
   "cell_type": "code",
   "execution_count": 9,
   "metadata": {
    "collapsed": false
   },
   "outputs": [
    {
     "data": {
      "text/html": [
       "<div>\n",
       "<table border=\"1\" class=\"dataframe\">\n",
       "  <thead>\n",
       "    <tr style=\"text-align: right;\">\n",
       "      <th></th>\n",
       "      <th>date</th>\n",
       "      <th>closeP</th>\n",
       "      <th>highP</th>\n",
       "      <th>lowP</th>\n",
       "      <th>openP</th>\n",
       "      <th>volume</th>\n",
       "    </tr>\n",
       "  </thead>\n",
       "  <tbody>\n",
       "    <tr>\n",
       "      <th>0</th>\n",
       "      <td>1456497241</td>\n",
       "      <td>52.4768</td>\n",
       "      <td>52.6600</td>\n",
       "      <td>52.430</td>\n",
       "      <td>52.600</td>\n",
       "      <td>1005700</td>\n",
       "    </tr>\n",
       "    <tr>\n",
       "      <th>1</th>\n",
       "      <td>1456497599</td>\n",
       "      <td>52.2800</td>\n",
       "      <td>52.5399</td>\n",
       "      <td>52.260</td>\n",
       "      <td>52.480</td>\n",
       "      <td>595800</td>\n",
       "    </tr>\n",
       "    <tr>\n",
       "      <th>2</th>\n",
       "      <td>1456497899</td>\n",
       "      <td>52.0150</td>\n",
       "      <td>52.3300</td>\n",
       "      <td>52.015</td>\n",
       "      <td>52.280</td>\n",
       "      <td>615500</td>\n",
       "    </tr>\n",
       "    <tr>\n",
       "      <th>3</th>\n",
       "      <td>1456498199</td>\n",
       "      <td>52.0600</td>\n",
       "      <td>52.1700</td>\n",
       "      <td>52.015</td>\n",
       "      <td>52.015</td>\n",
       "      <td>442800</td>\n",
       "    </tr>\n",
       "    <tr>\n",
       "      <th>4</th>\n",
       "      <td>1456498498</td>\n",
       "      <td>52.1100</td>\n",
       "      <td>52.1200</td>\n",
       "      <td>52.030</td>\n",
       "      <td>52.070</td>\n",
       "      <td>348300</td>\n",
       "    </tr>\n",
       "  </tbody>\n",
       "</table>\n",
       "</div>"
      ],
      "text/plain": [
       "         date   closeP    highP    lowP   openP   volume\n",
       "0  1456497241  52.4768  52.6600  52.430  52.600  1005700\n",
       "1  1456497599  52.2800  52.5399  52.260  52.480   595800\n",
       "2  1456497899  52.0150  52.3300  52.015  52.280   615500\n",
       "3  1456498199  52.0600  52.1700  52.015  52.015   442800\n",
       "4  1456498498  52.1100  52.1200  52.030  52.070   348300"
      ]
     },
     "execution_count": 9,
     "metadata": {},
     "output_type": "execute_result"
    }
   ],
   "source": [
    "df2 = pd.read_csv('MSFT.csv',names=['date','closeP','highP','lowP','openP','volume'])\n",
    "df2.head()"
   ]
  },
  {
   "cell_type": "markdown",
   "metadata": {},
   "source": [
    "#### First we will set the date column to be our index column"
   ]
  },
  {
   "cell_type": "code",
   "execution_count": 10,
   "metadata": {
    "collapsed": false,
    "scrolled": true
   },
   "outputs": [
    {
     "data": {
      "text/html": [
       "<div>\n",
       "<table border=\"1\" class=\"dataframe\">\n",
       "  <thead>\n",
       "    <tr style=\"text-align: right;\">\n",
       "      <th></th>\n",
       "      <th>closeP</th>\n",
       "      <th>highP</th>\n",
       "      <th>lowP</th>\n",
       "      <th>openP</th>\n",
       "      <th>volume</th>\n",
       "    </tr>\n",
       "    <tr>\n",
       "      <th>date</th>\n",
       "      <th></th>\n",
       "      <th></th>\n",
       "      <th></th>\n",
       "      <th></th>\n",
       "      <th></th>\n",
       "    </tr>\n",
       "  </thead>\n",
       "  <tbody>\n",
       "    <tr>\n",
       "      <th>1456497241</th>\n",
       "      <td>52.4768</td>\n",
       "      <td>52.6600</td>\n",
       "      <td>52.430</td>\n",
       "      <td>52.600</td>\n",
       "      <td>1005700</td>\n",
       "    </tr>\n",
       "    <tr>\n",
       "      <th>1456497599</th>\n",
       "      <td>52.2800</td>\n",
       "      <td>52.5399</td>\n",
       "      <td>52.260</td>\n",
       "      <td>52.480</td>\n",
       "      <td>595800</td>\n",
       "    </tr>\n",
       "    <tr>\n",
       "      <th>1456497899</th>\n",
       "      <td>52.0150</td>\n",
       "      <td>52.3300</td>\n",
       "      <td>52.015</td>\n",
       "      <td>52.280</td>\n",
       "      <td>615500</td>\n",
       "    </tr>\n",
       "    <tr>\n",
       "      <th>1456498199</th>\n",
       "      <td>52.0600</td>\n",
       "      <td>52.1700</td>\n",
       "      <td>52.015</td>\n",
       "      <td>52.015</td>\n",
       "      <td>442800</td>\n",
       "    </tr>\n",
       "    <tr>\n",
       "      <th>1456498498</th>\n",
       "      <td>52.1100</td>\n",
       "      <td>52.1200</td>\n",
       "      <td>52.030</td>\n",
       "      <td>52.070</td>\n",
       "      <td>348300</td>\n",
       "    </tr>\n",
       "  </tbody>\n",
       "</table>\n",
       "</div>"
      ],
      "text/plain": [
       "             closeP    highP    lowP   openP   volume\n",
       "date                                                 \n",
       "1456497241  52.4768  52.6600  52.430  52.600  1005700\n",
       "1456497599  52.2800  52.5399  52.260  52.480   595800\n",
       "1456497899  52.0150  52.3300  52.015  52.280   615500\n",
       "1456498199  52.0600  52.1700  52.015  52.015   442800\n",
       "1456498498  52.1100  52.1200  52.030  52.070   348300"
      ]
     },
     "execution_count": 10,
     "metadata": {},
     "output_type": "execute_result"
    }
   ],
   "source": [
    "df2 = pd.read_csv('MSFT.csv',names=['date','closeP','highP','lowP','openP','volume'],index_col=0)\n",
    "df2.head()"
   ]
  },
  {
   "cell_type": "markdown",
   "metadata": {},
   "source": [
    "**Then, we can convert df2's unix time into a readable time format for us using** [`pd.to_datetime`](http://pandas.pydata.org/pandas-docs/stable/generated/pandas.to_datetime.html)"
   ]
  },
  {
   "cell_type": "code",
   "execution_count": 11,
   "metadata": {
    "collapsed": false,
    "scrolled": false
   },
   "outputs": [
    {
     "data": {
      "text/html": [
       "<div>\n",
       "<table border=\"1\" class=\"dataframe\">\n",
       "  <thead>\n",
       "    <tr style=\"text-align: right;\">\n",
       "      <th></th>\n",
       "      <th>closeP</th>\n",
       "      <th>highP</th>\n",
       "      <th>lowP</th>\n",
       "      <th>openP</th>\n",
       "      <th>volume</th>\n",
       "    </tr>\n",
       "    <tr>\n",
       "      <th>date</th>\n",
       "      <th></th>\n",
       "      <th></th>\n",
       "      <th></th>\n",
       "      <th></th>\n",
       "      <th></th>\n",
       "    </tr>\n",
       "  </thead>\n",
       "  <tbody>\n",
       "    <tr>\n",
       "      <th>2016-02-26 14:34:01</th>\n",
       "      <td>52.4768</td>\n",
       "      <td>52.6600</td>\n",
       "      <td>52.430</td>\n",
       "      <td>52.600</td>\n",
       "      <td>1005700</td>\n",
       "    </tr>\n",
       "    <tr>\n",
       "      <th>2016-02-26 14:39:59</th>\n",
       "      <td>52.2800</td>\n",
       "      <td>52.5399</td>\n",
       "      <td>52.260</td>\n",
       "      <td>52.480</td>\n",
       "      <td>595800</td>\n",
       "    </tr>\n",
       "    <tr>\n",
       "      <th>2016-02-26 14:44:59</th>\n",
       "      <td>52.0150</td>\n",
       "      <td>52.3300</td>\n",
       "      <td>52.015</td>\n",
       "      <td>52.280</td>\n",
       "      <td>615500</td>\n",
       "    </tr>\n",
       "    <tr>\n",
       "      <th>2016-02-26 14:49:59</th>\n",
       "      <td>52.0600</td>\n",
       "      <td>52.1700</td>\n",
       "      <td>52.015</td>\n",
       "      <td>52.015</td>\n",
       "      <td>442800</td>\n",
       "    </tr>\n",
       "    <tr>\n",
       "      <th>2016-02-26 14:54:58</th>\n",
       "      <td>52.1100</td>\n",
       "      <td>52.1200</td>\n",
       "      <td>52.030</td>\n",
       "      <td>52.070</td>\n",
       "      <td>348300</td>\n",
       "    </tr>\n",
       "  </tbody>\n",
       "</table>\n",
       "</div>"
      ],
      "text/plain": [
       "                      closeP    highP    lowP   openP   volume\n",
       "date                                                          \n",
       "2016-02-26 14:34:01  52.4768  52.6600  52.430  52.600  1005700\n",
       "2016-02-26 14:39:59  52.2800  52.5399  52.260  52.480   595800\n",
       "2016-02-26 14:44:59  52.0150  52.3300  52.015  52.280   615500\n",
       "2016-02-26 14:49:59  52.0600  52.1700  52.015  52.015   442800\n",
       "2016-02-26 14:54:58  52.1100  52.1200  52.030  52.070   348300"
      ]
     },
     "execution_count": 11,
     "metadata": {},
     "output_type": "execute_result"
    }
   ],
   "source": [
    "df2.index = pd.to_datetime(df2.index,unit='s')\n",
    "df2.head()"
   ]
  },
  {
   "cell_type": "markdown",
   "metadata": {},
   "source": [
    "To select columns, we can pass a list containing the names of the desired columns represented as strings."
   ]
  },
  {
   "cell_type": "code",
   "execution_count": 12,
   "metadata": {
    "collapsed": false,
    "scrolled": true
   },
   "outputs": [
    {
     "data": {
      "text/html": [
       "<div>\n",
       "<table border=\"1\" class=\"dataframe\">\n",
       "  <thead>\n",
       "    <tr style=\"text-align: right;\">\n",
       "      <th></th>\n",
       "      <th>lowP</th>\n",
       "      <th>highP</th>\n",
       "    </tr>\n",
       "    <tr>\n",
       "      <th>date</th>\n",
       "      <th></th>\n",
       "      <th></th>\n",
       "    </tr>\n",
       "  </thead>\n",
       "  <tbody>\n",
       "    <tr>\n",
       "      <th>2015-03-12</th>\n",
       "      <td>548.9528</td>\n",
       "      <td>554.8467</td>\n",
       "    </tr>\n",
       "    <tr>\n",
       "      <th>2015-03-13</th>\n",
       "      <td>542.7299</td>\n",
       "      <td>556.8711</td>\n",
       "    </tr>\n",
       "    <tr>\n",
       "      <th>2015-03-16</th>\n",
       "      <td>544.5051</td>\n",
       "      <td>555.3254</td>\n",
       "    </tr>\n",
       "    <tr>\n",
       "      <th>2015-03-17</th>\n",
       "      <td>546.4996</td>\n",
       "      <td>552.2837</td>\n",
       "    </tr>\n",
       "    <tr>\n",
       "      <th>2015-03-18</th>\n",
       "      <td>545.5023</td>\n",
       "      <td>558.2473</td>\n",
       "    </tr>\n",
       "  </tbody>\n",
       "</table>\n",
       "</div>"
      ],
      "text/plain": [
       "                lowP     highP\n",
       "date                          \n",
       "2015-03-12  548.9528  554.8467\n",
       "2015-03-13  542.7299  556.8711\n",
       "2015-03-16  544.5051  555.3254\n",
       "2015-03-17  546.4996  552.2837\n",
       "2015-03-18  545.5023  558.2473"
      ]
     },
     "execution_count": 12,
     "metadata": {},
     "output_type": "execute_result"
    }
   ],
   "source": [
    "df[['lowP','highP']].head()"
   ]
  },
  {
   "cell_type": "markdown",
   "metadata": {},
   "source": [
    "Let's say you want a very specific set of data, we can make use of the [`.ix`](http://pandas.pydata.org/pandas-docs/stable/indexing.html) function. Basically, `.ix` supports mixed integer and label based access."
   ]
  },
  {
   "cell_type": "code",
   "execution_count": 13,
   "metadata": {
    "collapsed": false,
    "scrolled": false
   },
   "outputs": [
    {
     "data": {
      "text/html": [
       "<div>\n",
       "<table border=\"1\" class=\"dataframe\">\n",
       "  <thead>\n",
       "    <tr style=\"text-align: right;\">\n",
       "      <th></th>\n",
       "      <th>openP</th>\n",
       "      <th>closeP</th>\n",
       "    </tr>\n",
       "    <tr>\n",
       "      <th>date</th>\n",
       "      <th></th>\n",
       "      <th></th>\n",
       "    </tr>\n",
       "  </thead>\n",
       "  <tbody>\n",
       "    <tr>\n",
       "      <th>2015-03-19</th>\n",
       "      <td>557.8584</td>\n",
       "      <td>556.4622</td>\n",
       "    </tr>\n",
       "    <tr>\n",
       "      <th>2015-03-20</th>\n",
       "      <td>560.1122</td>\n",
       "      <td>558.8257</td>\n",
       "    </tr>\n",
       "    <tr>\n",
       "      <th>2015-03-23</th>\n",
       "      <td>558.8956</td>\n",
       "      <td>557.2800</td>\n",
       "    </tr>\n",
       "    <tr>\n",
       "      <th>2015-03-24</th>\n",
       "      <td>561.0197</td>\n",
       "      <td>568.6288</td>\n",
       "    </tr>\n",
       "    <tr>\n",
       "      <th>2015-03-25</th>\n",
       "      <td>568.9380</td>\n",
       "      <td>557.2551</td>\n",
       "    </tr>\n",
       "  </tbody>\n",
       "</table>\n",
       "</div>"
      ],
      "text/plain": [
       "               openP    closeP\n",
       "date                          \n",
       "2015-03-19  557.8584  556.4622\n",
       "2015-03-20  560.1122  558.8257\n",
       "2015-03-23  558.8956  557.2800\n",
       "2015-03-24  561.0197  568.6288\n",
       "2015-03-25  568.9380  557.2551"
      ]
     },
     "execution_count": 13,
     "metadata": {},
     "output_type": "execute_result"
    }
   ],
   "source": [
    "df.ix[5:10,['openP','closeP']]"
   ]
  },
  {
   "cell_type": "markdown",
   "metadata": {},
   "source": [
    "## Basic Mathematical Operations "
   ]
  },
  {
   "cell_type": "markdown",
   "metadata": {},
   "source": [
    "Here, we are attempting to take the difference between the highest price and lowest price! Also, realize that our dates jump from 13 to 16. That's because 14 and 15 are weekends. Markets are closed on weekends. Also, notice that we can call our columns in 2 different ways? You can call either by doing \n",
    "\n",
    "df.(column_name) or \n",
    "df['column_name']"
   ]
  },
  {
   "cell_type": "code",
   "execution_count": 14,
   "metadata": {
    "collapsed": false,
    "scrolled": false
   },
   "outputs": [
    {
     "data": {
      "text/plain": [
       "date\n",
       "2015-03-12     5.8939\n",
       "2015-03-13    14.1412\n",
       "2015-03-16    10.8203\n",
       "2015-03-17     5.7841\n",
       "2015-03-18    12.7450\n",
       "Name: H-L, dtype: float64"
      ]
     },
     "execution_count": 14,
     "metadata": {},
     "output_type": "execute_result"
    }
   ],
   "source": [
    "df['H-L'] = df['highP'] - df.lowP\n",
    "df['H-L'].head()"
   ]
  },
  {
   "cell_type": "markdown",
   "metadata": {},
   "source": [
    "**Below, we attempt to take the difference of the closing price of each day**"
   ]
  },
  {
   "cell_type": "code",
   "execution_count": 15,
   "metadata": {
    "collapsed": false,
    "scrolled": true
   },
   "outputs": [
    {
     "name": "stdout",
     "output_type": "stream",
     "text": [
      "date\n",
      "2015-03-12       NaN\n",
      "2015-03-13   -8.1675\n",
      "2015-03-16    7.1703\n",
      "2015-03-17   -3.6600\n",
      "2015-03-18    8.6363\n",
      "Name: Difference, dtype: float64\n"
     ]
    }
   ],
   "source": [
    "df['Difference'] = df.closeP.diff()\n",
    "print(df.Difference.head())"
   ]
  },
  {
   "cell_type": "markdown",
   "metadata": {},
   "source": [
    "This is what our dataframe(df) currently looks like. We have added to new columns df['H-L] and df.Difference"
   ]
  },
  {
   "cell_type": "code",
   "execution_count": 16,
   "metadata": {
    "collapsed": false
   },
   "outputs": [
    {
     "data": {
      "text/html": [
       "<div>\n",
       "<table border=\"1\" class=\"dataframe\">\n",
       "  <thead>\n",
       "    <tr style=\"text-align: right;\">\n",
       "      <th></th>\n",
       "      <th>closeP</th>\n",
       "      <th>highP</th>\n",
       "      <th>lowP</th>\n",
       "      <th>openP</th>\n",
       "      <th>volume</th>\n",
       "      <th>H-L</th>\n",
       "      <th>Difference</th>\n",
       "    </tr>\n",
       "    <tr>\n",
       "      <th>date</th>\n",
       "      <th></th>\n",
       "      <th></th>\n",
       "      <th></th>\n",
       "      <th></th>\n",
       "      <th></th>\n",
       "      <th></th>\n",
       "      <th></th>\n",
       "    </tr>\n",
       "  </thead>\n",
       "  <tbody>\n",
       "    <tr>\n",
       "      <th>2015-03-12</th>\n",
       "      <td>553.9890</td>\n",
       "      <td>554.8467</td>\n",
       "      <td>548.9528</td>\n",
       "      <td>551.9945</td>\n",
       "      <td>1389600</td>\n",
       "      <td>5.8939</td>\n",
       "      <td>NaN</td>\n",
       "    </tr>\n",
       "    <tr>\n",
       "      <th>2015-03-13</th>\n",
       "      <td>545.8215</td>\n",
       "      <td>556.8711</td>\n",
       "      <td>542.7299</td>\n",
       "      <td>551.9845</td>\n",
       "      <td>1703500</td>\n",
       "      <td>14.1412</td>\n",
       "      <td>-8.1675</td>\n",
       "    </tr>\n",
       "    <tr>\n",
       "      <th>2015-03-16</th>\n",
       "      <td>552.9918</td>\n",
       "      <td>555.3254</td>\n",
       "      <td>544.5051</td>\n",
       "      <td>549.4415</td>\n",
       "      <td>1640900</td>\n",
       "      <td>10.8203</td>\n",
       "      <td>7.1703</td>\n",
       "    </tr>\n",
       "    <tr>\n",
       "      <th>2015-03-17</th>\n",
       "      <td>549.3318</td>\n",
       "      <td>552.2837</td>\n",
       "      <td>546.4996</td>\n",
       "      <td>550.1994</td>\n",
       "      <td>1805500</td>\n",
       "      <td>5.7841</td>\n",
       "      <td>-3.6600</td>\n",
       "    </tr>\n",
       "    <tr>\n",
       "      <th>2015-03-18</th>\n",
       "      <td>557.9681</td>\n",
       "      <td>558.2473</td>\n",
       "      <td>545.5023</td>\n",
       "      <td>550.9872</td>\n",
       "      <td>2134500</td>\n",
       "      <td>12.7450</td>\n",
       "      <td>8.6363</td>\n",
       "    </tr>\n",
       "  </tbody>\n",
       "</table>\n",
       "</div>"
      ],
      "text/plain": [
       "              closeP     highP      lowP     openP   volume      H-L  \\\n",
       "date                                                                   \n",
       "2015-03-12  553.9890  554.8467  548.9528  551.9945  1389600   5.8939   \n",
       "2015-03-13  545.8215  556.8711  542.7299  551.9845  1703500  14.1412   \n",
       "2015-03-16  552.9918  555.3254  544.5051  549.4415  1640900  10.8203   \n",
       "2015-03-17  549.3318  552.2837  546.4996  550.1994  1805500   5.7841   \n",
       "2015-03-18  557.9681  558.2473  545.5023  550.9872  2134500  12.7450   \n",
       "\n",
       "            Difference  \n",
       "date                    \n",
       "2015-03-12         NaN  \n",
       "2015-03-13     -8.1675  \n",
       "2015-03-16      7.1703  \n",
       "2015-03-17     -3.6600  \n",
       "2015-03-18      8.6363  "
      ]
     },
     "execution_count": 16,
     "metadata": {},
     "output_type": "execute_result"
    }
   ],
   "source": [
    "df.head()"
   ]
  },
  {
   "cell_type": "markdown",
   "metadata": {},
   "source": [
    "## [Computational tools](http://pandas.pydata.org/pandas-docs/stable/computation.html)\n",
    "\n",
    "Pandas has a handful of common computational/statistical tools built in. Some of these includes:\n",
    "* % change\n",
    "* **rolling statistics**\n",
    "* Correlation\n",
    "* Corvariance\n",
    "* **Exponentially weighted moment functions**\n",
    "* ..etc\n",
    "\n",
    "We will be exploring some rolling functions and exponentially weighted moment functions"
   ]
  },
  {
   "cell_type": "markdown",
   "metadata": {},
   "source": [
    "### Moving (rolling statistics) / moments\n",
    "\n",
    "What does moving/rolling exactly mean? Well with rolling, it basically takes a `window` (of time) and it that `window` of time, we can do basically do anything with it. Some of the default [rolling](http://pandas.pydata.org/pandas-docs/stable/computation.html) functions that pandas provide includes:\n",
    "* rolling_sum()  - sum of values\n",
    "* rolling_mean() - mean of values\n",
    "* rolling_std() - Unbiased standard deviation\n",
    "* rolling_corr() - Correlation\n",
    "* rolling_apply() - Want a custom rolling math function? use this!"
   ]
  },
  {
   "cell_type": "markdown",
   "metadata": {},
   "source": [
    "Now, let's see if we can calculate the mean of the values in the past 20 periods. In financial analysis, this is often known as the *'Moving Average'*."
   ]
  },
  {
   "cell_type": "code",
   "execution_count": 17,
   "metadata": {
    "collapsed": false,
    "scrolled": true
   },
   "outputs": [
    {
     "data": {
      "text/html": [
       "<div>\n",
       "<table border=\"1\" class=\"dataframe\">\n",
       "  <thead>\n",
       "    <tr style=\"text-align: right;\">\n",
       "      <th></th>\n",
       "      <th>20MA</th>\n",
       "    </tr>\n",
       "    <tr>\n",
       "      <th>date</th>\n",
       "      <th></th>\n",
       "    </tr>\n",
       "  </thead>\n",
       "  <tbody>\n",
       "    <tr>\n",
       "      <th>2015-04-09</th>\n",
       "      <td>549.073525</td>\n",
       "    </tr>\n",
       "    <tr>\n",
       "      <th>2015-04-10</th>\n",
       "      <td>548.300645</td>\n",
       "    </tr>\n",
       "    <tr>\n",
       "      <th>2015-04-13</th>\n",
       "      <td>547.894260</td>\n",
       "    </tr>\n",
       "    <tr>\n",
       "      <th>2015-04-14</th>\n",
       "      <td>546.691560</td>\n",
       "    </tr>\n",
       "    <tr>\n",
       "      <th>2015-04-15</th>\n",
       "      <td>545.778570</td>\n",
       "    </tr>\n",
       "    <tr>\n",
       "      <th>2015-04-16</th>\n",
       "      <td>544.497085</td>\n",
       "    </tr>\n",
       "  </tbody>\n",
       "</table>\n",
       "</div>"
      ],
      "text/plain": [
       "                  20MA\n",
       "date                  \n",
       "2015-04-09  549.073525\n",
       "2015-04-10  548.300645\n",
       "2015-04-13  547.894260\n",
       "2015-04-14  546.691560\n",
       "2015-04-15  545.778570\n",
       "2015-04-16  544.497085"
      ]
     },
     "execution_count": 17,
     "metadata": {},
     "output_type": "execute_result"
    }
   ],
   "source": [
    "df['20MA'] = pd.rolling_mean(df['closeP'], 20)\n",
    "df.ix[19:25,['20MA']]"
   ]
  },
  {
   "cell_type": "markdown",
   "metadata": {},
   "source": [
    "Note we are unable to take the rolling_mean of the 1st 20 values because the first 20 values will be NaN because it needs 20 periods."
   ]
  },
  {
   "cell_type": "markdown",
   "metadata": {},
   "source": [
    "### Exponentially Weighted Moment Functions:\n",
    "\n",
    "Pandas provides a few exponentially weighted moment functions like:\n",
    "* `ewma()` - Exponentially Weighted Moving Average\n",
    "* `ewmvar()` - Exponentially Weighted Moving Variance\n",
    "* `ewmstd()` - Exponentially Weighted Moving Standard Deviation\n",
    "* `ewmcorr()`-Exponentially Weighted Moving Correlation\n",
    "\n",
    "We will be exploring the `ewma()` function. What is *ewma*?"
   ]
  },
  {
   "cell_type": "markdown",
   "metadata": {},
   "source": [
    "In general, the weighted moving average is calculated as $$y_t = \\frac {\\sum_{i=0}^{t}\\omega_i x_{t-i}} {\\sum_{i=0}^{t}\\omega_i}$$\n",
    "\n",
    "where $x_t$ will be our closing price and $\\omega_i$ are the weights. These weights are often expressed as \n",
    "\n",
    "$$\\omega_i = \\left\\{\\matrix{{\\alpha(1-\\alpha)^{i}} \\ \\ \\text{if i < t} \\\\\n",
    "{\\alpha(1-\\alpha)}\\ \\ \\ \\text{if i = t}}\\right.$$"
   ]
  },
  {
   "cell_type": "markdown",
   "metadata": {},
   "source": [
    "As for our calculation, we will be doing \n",
    "$$ \\text{EMA}_\\text{today} = \\frac{p_1 + (1-\\alpha)p_2 + (1-\\alpha)p_3 + \\dots}{1 + (1-\\alpha) + (1-\\alpha)^2 + + (1-\\alpha)^3 }$$\n",
    "\n",
    "where $$p_1 = \\text{today's closing price}$$\n",
    "$$p_2 = \\text{yesterday's closing price}$$\n",
    "$$\\alpha = \\frac{2}{[20]+1}$$\n",
    "\n",
    "We choose 20 and 50 because we're doing a 20 & 50 period ewma. In layman's terms, ewma emphasizes more weight on the most recent closing price compared to the previous one and so on so forth. "
   ]
  },
  {
   "cell_type": "code",
   "execution_count": 18,
   "metadata": {
    "collapsed": false
   },
   "outputs": [],
   "source": [
    "ewma20 = pd.ewma(df.closeP, span=20)\n",
    "ewma50 = pd.ewma(df.closeP, span=50)"
   ]
  },
  {
   "cell_type": "markdown",
   "metadata": {},
   "source": [
    "## Let's visualize our data!"
   ]
  },
  {
   "cell_type": "code",
   "execution_count": 19,
   "metadata": {
    "collapsed": false,
    "scrolled": false
   },
   "outputs": [
    {
     "data": {
      "image/png": "[encoded data removed]",
      "text/plain": [
       "<matplotlib.figure.Figure at 0x10ab7f0b8>"
      ]
     },
     "metadata": {},
     "output_type": "display_data"
    }
   ],
   "source": [
    "ax1 = plt.subplot2grid((6,4), (1,0), rowspan=6, colspan=4, axisbg='black')\n",
    "\n",
    "df.closeP.plot(label='Closing Price',ax=ax1, linewidth=2,color = 'blue' )\n",
    "df['20MA'].plot(label = '20 MA',ax=ax1, color='white')\n",
    "ewma20.plot(label='20EWMA', color = 'green')\n",
    "ewma50.plot(label='50EWMA', color = 'red')\n",
    "\n",
    "ax1.grid('on',color='w')\n",
    "plt.xlabel('Date')\n",
    "plt.ylabel('Stock Price')\n",
    "plt.gcf().set_size_inches(15,8)\n",
    "plt.legend(loc=2)\n",
    "plt.show()\n",
    "#Convert your string to a datetime using datetime.strptime. Then get a datetime.timedelta by subtracting the day 0 timestamp. \n",
    "#Then with the datetime.timedelta, extract the number of seconds, and divide by the number of seconds in a day. \n",
    "#This should give you a floating point number of days."
   ]
  },
  {
   "cell_type": "markdown",
   "metadata": {},
   "source": [
    "Instead of using the typical matplotlib plot, we can use pandas to plot. Notice that we have the date at the bottom formatted for us!"
   ]
  },
  {
   "cell_type": "markdown",
   "metadata": {},
   "source": [
    "# What else can I do?"
   ]
  },
  {
   "cell_type": "markdown",
   "metadata": {},
   "source": [
    "Well, like mentioned above, pandas has a [built-in subpackage](http://pandas.pydata.org/pandas-docs/stable/remote_data.html) that reads financial data from sources like Yahoo! Finance and Google Finance. We will utilize that and plot some bar graphs to see the changes in a company's price a year from now!\n",
    "\n",
    "**NOTE: Unfortunately in pandas 0.17.0 onwards, the sub-package pandas.io.data will be removed in favor of a separately installable [pandas-datareader package](https://github.com/pydata/pandas-datareader).**"
   ]
  },
  {
   "cell_type": "code",
   "execution_count": 24,
   "metadata": {
    "collapsed": false
   },
   "outputs": [],
   "source": [
    "import pandas.io.data as web"
   ]
  },
  {
   "cell_type": "markdown",
   "metadata": {},
   "source": [
    "#### First, we will must understand that the pd.io.data.DataReader() functions takes 4 parameters: \n",
    "\n",
    "#### pd.io.data(the company's ticker's symbol, source of data, start time, end time)"
   ]
  },
  {
   "cell_type": "markdown",
   "metadata": {},
   "source": [
    "**First, we will need to know the ticker symbol of the companies (ie., the symbol of the company from Yahoo! Finance) and we will also give the full name of the company for each ticker symbol. The first parameter has to be a dictionary, so we will need {}. We can do it as follows:**"
   ]
  },
  {
   "cell_type": "code",
   "execution_count": 21,
   "metadata": {
    "collapsed": false
   },
   "outputs": [],
   "source": [
    "company_list = {'EBAY': 'EBAY',\n",
    "                'GOOG': 'GOOGLE', \n",
    "                'AAPL': 'Apple', \n",
    "                'SCHW': 'Charles Schwab',\n",
    "                'BLK': 'Blackrock Corporation', \n",
    "                'FB':'Facebook',\n",
    "                'C':'Citigroup',\n",
    "                'RDS-B': 'Shell'}"
   ]
  },
  {
   "cell_type": "markdown",
   "metadata": {},
   "source": [
    "**Let's define start and end time explicitly**"
   ]
  },
  {
   "cell_type": "code",
   "execution_count": 22,
   "metadata": {
    "collapsed": true
   },
   "outputs": [],
   "source": [
    "start = dt.datetime(2015, 3, 1)\n",
    "end = dt.datetime.today()"
   ]
  },
  {
   "cell_type": "markdown",
   "metadata": {},
   "source": [
    "**Now, let's see what we get from using the function pd.io.data.DataReader()**"
   ]
  },
  {
   "cell_type": "code",
   "execution_count": 23,
   "metadata": {
    "collapsed": false,
    "scrolled": false
   },
   "outputs": [
    {
     "data": {
      "text/html": [
       "<div>\n",
       "<table border=\"1\" class=\"dataframe\">\n",
       "  <thead>\n",
       "    <tr style=\"text-align: right;\">\n",
       "      <th></th>\n",
       "      <th>Open</th>\n",
       "      <th>High</th>\n",
       "      <th>Low</th>\n",
       "      <th>Close</th>\n",
       "      <th>Volume</th>\n",
       "      <th>Adj Close</th>\n",
       "    </tr>\n",
       "    <tr>\n",
       "      <th>Date</th>\n",
       "      <th></th>\n",
       "      <th></th>\n",
       "      <th></th>\n",
       "      <th></th>\n",
       "      <th></th>\n",
       "      <th></th>\n",
       "    </tr>\n",
       "  </thead>\n",
       "  <tbody>\n",
       "    <tr>\n",
       "      <th>2015-03-02</th>\n",
       "      <td>43.669998</td>\n",
       "      <td>44.189999</td>\n",
       "      <td>43.549999</td>\n",
       "      <td>43.880001</td>\n",
       "      <td>31924000</td>\n",
       "      <td>42.714399</td>\n",
       "    </tr>\n",
       "    <tr>\n",
       "      <th>2015-03-03</th>\n",
       "      <td>43.560001</td>\n",
       "      <td>43.830002</td>\n",
       "      <td>43.090000</td>\n",
       "      <td>43.279999</td>\n",
       "      <td>31748600</td>\n",
       "      <td>42.130335</td>\n",
       "    </tr>\n",
       "    <tr>\n",
       "      <th>2015-03-04</th>\n",
       "      <td>43.009998</td>\n",
       "      <td>43.209999</td>\n",
       "      <td>42.880001</td>\n",
       "      <td>43.060001</td>\n",
       "      <td>25748700</td>\n",
       "      <td>41.916181</td>\n",
       "    </tr>\n",
       "    <tr>\n",
       "      <th>2015-03-05</th>\n",
       "      <td>43.070000</td>\n",
       "      <td>43.240002</td>\n",
       "      <td>42.820000</td>\n",
       "      <td>43.110001</td>\n",
       "      <td>23193500</td>\n",
       "      <td>41.964852</td>\n",
       "    </tr>\n",
       "    <tr>\n",
       "      <th>2015-03-06</th>\n",
       "      <td>43.000000</td>\n",
       "      <td>43.110001</td>\n",
       "      <td>42.150002</td>\n",
       "      <td>42.360001</td>\n",
       "      <td>36248800</td>\n",
       "      <td>41.234775</td>\n",
       "    </tr>\n",
       "  </tbody>\n",
       "</table>\n",
       "</div>"
      ],
      "text/plain": [
       "                 Open       High        Low      Close    Volume  Adj Close\n",
       "Date                                                                       \n",
       "2015-03-02  43.669998  44.189999  43.549999  43.880001  31924000  42.714399\n",
       "2015-03-03  43.560001  43.830002  43.090000  43.279999  31748600  42.130335\n",
       "2015-03-04  43.009998  43.209999  42.880001  43.060001  25748700  41.916181\n",
       "2015-03-05  43.070000  43.240002  42.820000  43.110001  23193500  41.964852\n",
       "2015-03-06  43.000000  43.110001  42.150002  42.360001  36248800  41.234775"
      ]
     },
     "execution_count": 23,
     "metadata": {},
     "output_type": "execute_result"
    }
   ],
   "source": [
    "data3 = web.DataReader('MSFT', 'yahoo', start, end)\n",
    "data3.head()"
   ]
  },
  {
   "cell_type": "markdown",
   "metadata": {},
   "source": [
    "That's the good thing about the pd.io.data.DataReader() function. It organizes everything and so it's easy for us to use. We can also pick out the column we want. In this case, we want the 'Close' column."
   ]
  },
  {
   "cell_type": "code",
   "execution_count": 25,
   "metadata": {
    "collapsed": false,
    "scrolled": false
   },
   "outputs": [
    {
     "data": {
      "text/plain": [
       "Date\n",
       "2015-03-02    43.880001\n",
       "2015-03-03    43.279999\n",
       "2015-03-04    43.060001\n",
       "2015-03-05    43.110001\n",
       "2015-03-06    42.360001\n",
       "Name: Close, dtype: float64"
      ]
     },
     "execution_count": 25,
     "metadata": {},
     "output_type": "execute_result"
    }
   ],
   "source": [
    "data3.Close.head()"
   ]
  },
  {
   "cell_type": "markdown",
   "metadata": {},
   "source": [
    "## Let's plot the bar graph with what we know!"
   ]
  },
  {
   "cell_type": "code",
   "execution_count": 26,
   "metadata": {
    "collapsed": false,
    "scrolled": true
   },
   "outputs": [
    {
     "data": {
      "image/png": "[encoded data removed]",
      "text/plain": [
       "<matplotlib.figure.Figure at 0x105867f98>"
      ]
     },
     "metadata": {},
     "output_type": "display_data"
    }
   ],
   "source": [
    "company_list = {'EBAY': 'EBAY',\n",
    "                'GOOG': 'GOOGLE', \n",
    "                'AAPL': 'Apple', \n",
    "                'SCHW': 'Charles Schwab',\n",
    "                'BLK': 'Blackrock Corporation', \n",
    "                'FB':'Facebook',\n",
    "                'C':'Citigroup',\n",
    "                'RDS-B': 'Shell'}\n",
    "\n",
    "start = dt.datetime(2015, 3, 1)\n",
    "end = dt.datetime.today()\n",
    "\n",
    "#We want pct_change to be a dict so that we can pass it to pd.Series() and then we can plot the % change in price \n",
    "#of the companies from the starting date until current date!\n",
    "pct_change = {}\n",
    "\n",
    "for company in company_list:\n",
    "    data = web.DataReader(company, 'yahoo', start, end)\n",
    "    \n",
    "    #We only want the values('Close') from the set of values in data\n",
    "    closeP = data.Close\n",
    "    \n",
    "    #A simple formula to calculate % change in price from a year before. \n",
    "    #It's (current price - price from the 1st day)/ price from the 1st day * 100\n",
    "    pctchange = 100 * (closeP[-1] - closeP[0]) / closeP[0]\n",
    "    \n",
    "    #Getting the 'actual' name of the company\n",
    "    name = company_list[company]\n",
    "    \n",
    "    #This is the pctchange of each company\n",
    "    pct_change[name] = pctchange\n",
    "\n",
    "# We want pct_change as a series so that we can plot it on a x-axis/as an independent variable\n",
    "percentchange = pd.Series(pct_change)\n",
    "\n",
    "percentchange.sort_values(inplace=True)\n",
    "plt.gcf().set_size_inches(8,6)\n",
    "percentchange.plot(kind='bar')\n",
    "plt.grid('on')\n",
    "plt.show()"
   ]
  },
  {
   "cell_type": "markdown",
   "metadata": {},
   "source": [
    "#### As a bonus, the code below allows you to take any company from Yahoo! Finance directly with 1d, 1y, 2y period as long as you know it's company's ticker symbol. This example here is slightly different than what we did in a sense that instead of needing a csv file to do the data analysis, I parsed the data from Yahoo directly. Also, notice that for 1 day data, I had to use the `pd.to_datetime()` to convert unix timestamp into standardized timestamp \n",
    "\n",
    "#### Eg., you can use 'GOOG','MSFT','EBAY' as ticker symbol to test out!"
   ]
  },
  {
   "cell_type": "code",
   "execution_count": 27,
   "metadata": {
    "collapsed": true
   },
   "outputs": [],
   "source": [
    "from matplotlib.finance import candlestick_ohlc\n",
    "import io\n",
    "import urllib\n",
    "import urllib.request"
   ]
  },
  {
   "cell_type": "code",
   "execution_count": 28,
   "metadata": {
    "collapsed": false
   },
   "outputs": [
    {
     "name": "stdout",
     "output_type": "stream",
     "text": [
      "Enter the ticker symbol:GOOG\n",
      "GOOG\n",
      "Enter time range:\n",
      "1d = 1 day\n",
      "1y = 1 year\n",
      "2y = 2 year\n",
      "1d\n"
     ]
    },
    {
     "data": {
      "image/png": "[encoded data removed]",
      "text/plain": [
       "<matplotlib.figure.Figure at 0x10afcf668>"
      ]
     },
     "metadata": {},
     "output_type": "display_data"
    }
   ],
   "source": [
    "goURL = input('Enter the ticker symbol:')\n",
    "print(goURL)\n",
    "period = input('Enter time range:'+'\\n'+'1d = 1 day'+'\\n'\n",
    "               +'1y = 1 year'+'\\n'\n",
    "               +'2y = 2 year'+'\\n')\n",
    "#URL of the source where the data is retrieved\n",
    "urlToVisit = 'http://chartapi.finance.yahoo.com/instrument/1.0/'+goURL+'/chartdata;type=quote;range='+period+'/csv'\n",
    "\n",
    "#Opens the URL and read + decode the whole folder\n",
    "with urllib.request.urlopen(urlToVisit) as response:\n",
    "    sourcePage = response.read().decode()\n",
    "\n",
    "if period == '1d':\n",
    "    df = pd.read_csv(io.StringIO(sourcePage), skiprows=17, header=None, sep=\",\",\n",
    "                 names=['date','closeP','highP','lowP','openP','volume'],index_col= 0)\n",
    "    df.index = pd.to_datetime(df.index,unit='s')\n",
    "\n",
    "if period =='1y':\n",
    "    df = pd.read_csv(io.StringIO(sourcePage), skiprows=18, header=None, sep=\",\", \n",
    "                     names=['date','closeP','highP','lowP','openP','volume'],index_col= 0, parse_dates= True)\n",
    "\n",
    "if period =='2y':\n",
    "    df = pd.read_csv(io.StringIO(sourcePage), skiprows=19, header=None, sep=\",\", \n",
    "                     names=['date','closeP','highP','lowP','openP','volume'],index_col= 0, parse_dates= True)\n",
    "\n",
    "df['10MA'] = pd.rolling_mean(df.closeP,10)\n",
    "ewma20 = pd.ewma(df.closeP, span=20)\n",
    "ewma50 = pd.ewma(df.closeP, span=50)\n",
    "\n",
    "df['20MA'] = pd.rolling_mean(df.closeP,20)\n",
    "df['stdev'] = pd.rolling_std(df.closeP,20)\n",
    "upperband = df['20MA'] + (2*df.stdev)\n",
    "lowerband = df['20MA'] - (2*df.stdev)\n",
    "\n",
    "f1 = plt.subplot2grid((6,4), (1,0), rowspan=6, colspan=4, axisbg='#07000d')\n",
    "\n",
    "plt.plot(df['20MA'],color='cyan')\n",
    "df.closeP.plot(ax=f1)\n",
    "ewma20.plot(ax=f1)\n",
    "ewma50.plot(ax=f1)\n",
    "plt.suptitle(goURL+' price')\n",
    "f1.grid('on',color='w')\n",
    "plt.xlabel('Date')\n",
    "plt.ylabel('Stock Price')\n",
    "\n",
    "#candlestick_ohlc(f1, DATA.values, width=.6, colorup='#53c156', colordown='#ff1717')\n",
    "plt.gcf().set_size_inches(15,9)\n",
    "plt.legend(loc=2)\n",
    "plt.show()\n"
   ]
  },
  {
   "cell_type": "markdown",
   "metadata": {},
   "source": [
    "## For more resources"
   ]
  },
  {
   "cell_type": "markdown",
   "metadata": {},
   "source": [
    "[Data Analysis](https://pythonprogramming.net/data-analysis-python-pandas-tutorial-introduction/)\n",
    "\n",
    "[Data Analysis with pandas, matplotlib, machine learning](https://pythonprogramming.net/data-analysis-tutorials/)\n"
   ]
  }
 ],
 "metadata": {
  "kernelspec": {
   "display_name": "Python 3",
   "language": "python",
   "name": "python3"
  },
  "language_info": {
   "codemirror_mode": {
    "name": "ipython",
    "version": 3
   },
   "file_extension": ".py",
   "mimetype": "text/x-python",
   "name": "python",
   "nbconvert_exporter": "python",
   "pygments_lexer": "ipython3",
   "version": "3.5.1"
  }
 },
 "nbformat": 4,
 "nbformat_minor": 0
}
